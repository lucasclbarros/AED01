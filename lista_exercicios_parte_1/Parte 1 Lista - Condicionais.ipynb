{
 "cells": [
  {
   "cell_type": "markdown",
   "id": "a47a20f7-ccc2-4194-ab69-02305f6de509",
   "metadata": {},
   "source": [
    "# Lista de exercícios Piva - Parte 1 Condicionais"
   ]
  },
  {
   "cell_type": "markdown",
   "id": "d11a40d5-4455-41bc-a175-f41fb2c06e46",
   "metadata": {},
   "source": [
    "### Exercício 0 - Faça um algoritmo para ler um número e mostrar se ele é par ou impar, positivo ou negativo. "
   ]
  },
  {
   "cell_type": "code",
   "execution_count": 17,
   "id": "4518cbc6-b487-446a-884d-94fd2988ec21",
   "metadata": {},
   "outputs": [
    {
     "name": "stdin",
     "output_type": "stream",
     "text": [
      "Insira um número inteiro -1\n"
     ]
    },
    {
     "name": "stdout",
     "output_type": "stream",
     "text": [
      "O número -1 é negativo\n",
      "o número -1 é impar\n"
     ]
    }
   ],
   "source": [
    "num = int(input(\"Insira um número inteiro\"))\n",
    "if num > 0:\n",
    "    print(\"O número\", num, \"é positivo\")\n",
    "else:\n",
    "    print(\"O número\", num, \"é negativo\")\n",
    "if num % 2 == 0:\n",
    "    print(\"o número\", num, \"é par\")\n",
    "else:\n",
    "    print(\"o número\", num, \"é impar\")"
   ]
  },
  {
   "cell_type": "markdown",
   "id": "15738b25-5e77-440f-abfa-969b0c29f328",
   "metadata": {},
   "source": [
    "### Exercício 1 - Faça um Programa que peça dois números e imprima o maior deles. "
   ]
  },
  {
   "cell_type": "code",
   "execution_count": 20,
   "id": "6014cd0e-dac8-4ec1-8b4d-b84cd2904e99",
   "metadata": {},
   "outputs": [
    {
     "name": "stdin",
     "output_type": "stream",
     "text": [
      "Insira um número 1\n",
      "Insira outro número 3\n"
     ]
    },
    {
     "name": "stdout",
     "output_type": "stream",
     "text": [
      "O número 3.0 é maior que 1.0\n"
     ]
    }
   ],
   "source": [
    "num1 = float(input(\"Insira um número\"))\n",
    "num2 = float(input(\"Insira outro número\"))\n",
    "\n",
    "if num1 > num2:\n",
    "    print(\"O número\", num1, \"é maior que\", num2)\n",
    "else:\n",
    "    print(\"O número\", num2, \"é maior que\", num1)"
   ]
  },
  {
   "cell_type": "markdown",
   "id": "3d7e73d3-6a4a-46f8-bb26-fe1961aeef60",
   "metadata": {},
   "source": [
    "### Exercício 2 - Faça um Programa que peça um valor e mostre na tela se o valor é positivo ou negativo. "
   ]
  },
  {
   "cell_type": "code",
   "execution_count": 22,
   "id": "f13b474c-1023-4af7-94a5-96798bbcc7a3",
   "metadata": {},
   "outputs": [
    {
     "name": "stdin",
     "output_type": "stream",
     "text": [
      "Insira um valor 3\n"
     ]
    },
    {
     "name": "stdout",
     "output_type": "stream",
     "text": [
      "O valor de 3.0 é positivo\n"
     ]
    }
   ],
   "source": [
    "v1 = float(input(\"Insira um valor\"))\n",
    "if v1 > 0:\n",
    "    print(\"O valor de\", v1, \"é positivo\")\n",
    "else:\n",
    "    print(\"o valor de\", v1, \"é negativo\")"
   ]
  },
  {
   "cell_type": "markdown",
   "id": "5927487b-18af-406e-a4e7-2b84c581ffe6",
   "metadata": {},
   "source": [
    "### Exercício 3 - Faça um Programa que verifique se uma letra digitada é vogal ou consoante."
   ]
  },
  {
   "cell_type": "code",
   "execution_count": 59,
   "id": "b1a9715d-5317-4ad9-9e92-47fba76c9e2d",
   "metadata": {},
   "outputs": [
    {
     "name": "stdin",
     "output_type": "stream",
     "text": [
      "Insira uma letra c\n"
     ]
    },
    {
     "name": "stdout",
     "output_type": "stream",
     "text": [
      "A letra c é uma consoante\n"
     ]
    }
   ],
   "source": [
    "letra = str(input(\"Insira uma letra\"))\n",
    "if letra in \"aeiou\":\n",
    "    print(\"A letra\", letra, \"é uma vogal\")\n",
    "else:\n",
    "    print(\"A letra\", letra, \"é uma consoante\")"
   ]
  },
  {
   "cell_type": "markdown",
   "id": "87373b56-1580-47d4-baab-6bfef827bbe7",
   "metadata": {},
   "source": [
    "### Exercício 4 - Faça um programa para a leitura de duas notas parciais de um aluno. O programa deve calcular a média alcançada por aluno e apresentar: \n",
    "##### a. A mensagem \"Aprovado\", se a média alcançada for maior ou igual a sete; \n",
    "##### b. A mensagem \"Reprovado\", se a média for menor do que sete; \n",
    "##### c. A mensagem \"Aprovado com Distinção\", se a média for igual a dez. "
   ]
  },
  {
   "cell_type": "code",
   "execution_count": 68,
   "id": "93976f8c-ecdf-49e6-9b86-66c04ad4996b",
   "metadata": {},
   "outputs": [
    {
     "name": "stdin",
     "output_type": "stream",
     "text": [
      "Insira a nota da primeira prova 0\n",
      "Insira a nota da segunda prova 0\n"
     ]
    },
    {
     "name": "stdout",
     "output_type": "stream",
     "text": [
      "Reprovado\n"
     ]
    }
   ],
   "source": [
    "n1 = float(input(\"Insira a nota da primeira prova\"))\n",
    "n2 = float(input(\"Insira a nota da segunda prova\"))\n",
    "media = (n1 + n2) / 2\n",
    "\n",
    "if media == 10:\n",
    "    print(\"Aprovado com distinção\")\n",
    "elif media >= 7:\n",
    "    print(\"Aprovado\")\n",
    "else:\n",
    "    print(\"Reprovado\")\n"
   ]
  },
  {
   "cell_type": "markdown",
   "id": "5a678960-2f47-4ce7-b6a9-ebd49997954b",
   "metadata": {},
   "source": [
    "### Exercício 5 - Faça um programa que pergunte o preço de três produtos e informe qual produto você deve comprar, sabendo que a decisão é sempre pelo mais barato."
   ]
  },
  {
   "cell_type": "code",
   "execution_count": 78,
   "id": "af13543d-3d26-4521-8013-b60636306b9a",
   "metadata": {},
   "outputs": [
    {
     "name": "stdin",
     "output_type": "stream",
     "text": [
      "Insira o preço do produto:  10\n",
      "Insira o preço do produto:  2\n",
      "Insira o preço do produto:  10\n"
     ]
    },
    {
     "name": "stdout",
     "output_type": "stream",
     "text": [
      "Você deveria comprar o produto 2 que custa: 2.0\n"
     ]
    }
   ],
   "source": [
    "p1 = float(input(\"Insira o preço do produto: \"))\n",
    "p2 = float(input(\"Insira o preço do produto: \"))\n",
    "p3 = float(input(\"Insira o preço do produto: \"))\n",
    "\n",
    "if p1 < p2 and p1 < p3:\n",
    "    print(\"Você deveria comprar o produto 1 que custa:\", p1)\n",
    "elif p2 < p1 and p2 < p3:\n",
    "    print(\"Você deveria comprar o produto 2 que custa:\", p2)\n",
    "elif p3 < p2 and p3 < p1:\n",
    "    print(\"Você deveria comprar o produto 3 que custa:\", p3)"
   ]
  },
  {
   "cell_type": "markdown",
   "id": "983f08ab-1138-4727-b0b9-aa6b30ce78a8",
   "metadata": {},
   "source": [
    "### Exercício 6 - Faça um Programa que leia três números e mostre-os em ordem decrescente."
   ]
  },
  {
   "cell_type": "markdown",
   "id": "17f47c0b-d4d5-4940-a48a-b4a8cc1c9f84",
   "metadata": {},
   "source": [
    "n1 = float(input(\"Insira um número:\"))\n",
    "n2 = float(input(\"Insira um número:\"))\n",
    "n3 = float(input(\"Insira um número:\"))\n",
    "if n1 >= n2 and n1 >= n3:\n",
    "    if n2 >= n3:\n",
    "        print(n1, n2, n3)\n",
    "    else:\n",
    "        print(n1, n3, n2)\n",
    "elif n2 >= n1 and n2 >= n3:\n",
    "    if n1 >= n3:\n",
    "        print(n2, n1, n3)\n",
    "    else:\n",
    "        print(n2, n3, n1)\n",
    "else:\n",
    "    if n1 >= n2:\n",
    "        print(n3, n1, n2)\n",
    "    else:\n",
    "        print(n3, n2, n1)\n"
   ]
  },
  {
   "cell_type": "markdown",
   "id": "6bc191dc-bbc3-42b2-8110-5a6fe28969fd",
   "metadata": {},
   "source": [
    "### Exercício 7 - Faça um Programa que pergunte em que turno você estuda. Peça para digitar M-matutino ou V-Vespertino ou N- Noturno. \n",
    "Imprima a mensagem \"Bom Dia!\", \"Boa Tarde!\" ou \"Boa Noite!\" ou \"Valor Inválido!\", conforme o caso. "
   ]
  },
  {
   "cell_type": "code",
   "execution_count": 97,
   "id": "a26e55ba-27dc-4d9c-a2e8-2c9052d14177",
   "metadata": {},
   "outputs": [
    {
     "name": "stdin",
     "output_type": "stream",
     "text": [
      "Em qual turno você estuda? N\n"
     ]
    },
    {
     "name": "stdout",
     "output_type": "stream",
     "text": [
      "Boa Noite!\n"
     ]
    }
   ],
   "source": [
    "turno = str(input(\"Em qual turno você estuda?\"))\n",
    "if turno == \"M\" or turno == \"Matutino\":\n",
    "    print(\"Bom Dia!\")\n",
    "elif turno == \"V\" or turno == \"Vespertino\":\n",
    "    print(\"Boa Tarde!\")\n",
    "elif turno == \"N\" or turno == \"Noturno\":\n",
    "    print(\"Boa Noite!\")\n",
    "else:\n",
    "    print(\"Valor inválido\")"
   ]
  },
  {
   "cell_type": "markdown",
   "id": "32dcbc02-43cc-424c-8283-9b0956dd8ef9",
   "metadata": {},
   "source": [
    "### Exercício 8 - As Organizações Tabajara resolveram dar um aumento de salário aos seus colaboradores e lhe contraram para desenvolver o programa que calculará os reajustes. \n",
    "#### a. Faça um programa que recebe o salário de um colaborador e o reajuste segundo o seguinte critério, baseado no  salário atual: \n",
    "\n",
    "#### b. salários até R$ 280,00 (incluindo) : aumento de 20% \n",
    "\n",
    "#### c. salários entre R$ 280,00 e R$ 700,00 : aumento de 15% \n",
    "\n",
    "#### d. salários entre R$ 700,00 e R$ 1500,00 : aumento de 10% \n",
    "\n",
    "#### e. salários de R$ 1500,00 em diante : aumento de 5% Após o aumento ser realizado, informe na tela: \n",
    "\n",
    "#### f. o salário antes do reajuste; \n",
    "\n",
    "#### g. o percentual de aumento aplicado; \n",
    "\n",
    "#### h. o valor do aumento; \n",
    "\n",
    "#### i. o novo salário, após o aumento."
   ]
  },
  {
   "cell_type": "code",
   "execution_count": null,
   "id": "a19c2830-669b-4a35-ba60-ee9ccebd1d0b",
   "metadata": {},
   "outputs": [],
   "source": [
    "salario = float(input(\"Insira o salário\"))\n",
    "if salario <= 280:\n",
    "    percentual = 20\n",
    "elif salario <= 700:\n",
    "    percentual = 15\n",
    "elif salario <= 1500:\n",
    "    percentual = 10\n",
    "else:\n",
    "    percentual = 5\n",
    "    \n",
    "aumento = salario * (percentual / 100)\n",
    "novo_salario = salario + aumento\n",
    "print(f\"Salário antes do reajuste: R$ {salario:.2f}\")\n",
    "print(f\"Percentual aplicado: {percentual:.2f}%\")\n",
    "print(f\"Valor do aumento: R$ {aumento:.2f}\")\n",
    "print(f\"Novo salário depois do aumento: R$ {novo_salario:}.2f\")"
   ]
  },
  {
   "cell_type": "markdown",
   "id": "4dc88313-65b0-40d5-8170-d39ff20a2fd0",
   "metadata": {},
   "source": [
    "### Exercício 9 - Faça um programa para o cálculo de uma folha de pagamento, sabendo que os descontos são do Imposto de Renda, que depende do salário bruto (conforme tabela abaixo) e 3% para o Sindicato e que o FGTS corresponde a 11% do Salário Bruto, mas não é descontado (é a empresa que deposita). O Salário Líquido corresponde ao Salário Bruto menos os descontos. O programa deverá pedir ao usuário o valor da sua hora e a quantidade de horas trabalhadas no mês."
   ]
  },
  {
   "cell_type": "markdown",
   "id": "b0a7562f-fe41-40fb-8ecf-4a59358b2396",
   "metadata": {},
   "source": [
    "##### a. Desconto do IR: \n",
    "\n",
    "##### b. Salário Bruto até 900 (inclusive) - isento \n",
    "\n",
    "##### c. Salário Bruto até 1500 (inclusive) - desconto de 5% \n",
    "\n",
    "##### d. Salário Bruto até 2500 (inclusive) - desconto de 10% \n",
    "\n",
    "##### e. Salário Bruto acima de 2500 - desconto de 20% Imprima na tela as informações, dispostas conforme o exemplo \n",
    "\n",
    "##### abaixo. No exemplo o valor da hora é 5 e a quantidade de hora é 220"
   ]
  },
  {
   "cell_type": "code",
   "execution_count": 35,
   "id": "5a883745-663d-4822-bb2d-0a2dbd902dac",
   "metadata": {},
   "outputs": [
    {
     "name": "stdin",
     "output_type": "stream",
     "text": [
      "Insira qual o valor da sua hora trabalhada:  10\n",
      "Insira quantas horas você trabalhou no mês 240\n"
     ]
    },
    {
     "name": "stdout",
     "output_type": "stream",
     "text": [
      "Salário bruto: (10.0 * 240.0): R$ 2400.0\n",
      "(-) IR 10: R$ 240.0\n",
      "(-) Sindicato (3%) :72.0\n",
      "(-) FGTS : 264.0:\n",
      "Total de descontos: 312.0\n",
      "Salário liquido: 2088.0\n"
     ]
    }
   ],
   "source": [
    "valor_hora = float(input(\"Insira qual o valor da sua hora trabalhada: \"))\n",
    "hora_trabalhada = float(input(\"Insira quantas horas você trabalhou no mês\"))\n",
    "salario_bruto = valor_hora * hora_trabalhada\n",
    "if salario_bruto <= 900:\n",
    "    ir_desconto = 0\n",
    "elif salario_bruto <= 1500:\n",
    "    ir_desconto = 5\n",
    "elif salario_bruto <= 2500:\n",
    "    ir_desconto = 10\n",
    "else:\n",
    "    ir_desconto = 20\n",
    "\n",
    "ir = salario_bruto * (ir_desconto / 100)\n",
    "sindicato = salario_bruto * 0.03\n",
    "fgts = salario_bruto * 0.11\n",
    "total_descontos = ir + sindicato\n",
    "salario_liquido = salario_bruto - total_descontos\n",
    "\n",
    "print(f\"Salário bruto: ({valor_hora } * {hora_trabalhada}): R$ {salario_bruto}\") \n",
    "print(f\"(-) IR {ir_desconto}: R$ {ir:}\")\n",
    "print(f\"(-) Sindicato (3%) :{sindicato:}\")\n",
    "print(f\"(-) FGTS : {fgts}:\")\n",
    "print(f\"Total de descontos: {total_descontos}\")\n",
    "print(f\"Salário liquido: {salario_liquido}\")\n"
   ]
  },
  {
   "cell_type": "markdown",
   "id": "65d4d78f-0ae9-4bf0-a982-7ee9f1ab5cd1",
   "metadata": {},
   "source": [
    "### 10 - Faça um programa que lê as duas notas parciais obtidas por um aluno numa disciplina ao longo de um semestre, e calcule \n",
    "a sua média. A atribuição de conceitos obedece à tabela abaixo: "
   ]
  },
  {
   "cell_type": "markdown",
   "id": "cfb32d1c-80ae-4ca7-9a12-309d88ca2277",
   "metadata": {},
   "source": [
    "##### a.   Média de Aproveitamento  Conceito \n",
    "\n",
    "##### b.   Entre 9.0 e 10.0        A \n",
    "\n",
    "##### c.   Entre 7.5 e 9.0         B \n",
    "\n",
    "##### d.   Entre 6.0 e 7.5         C \n",
    "\n",
    "##### e.   Entre 4.0 e 6.0         D \n",
    "\n",
    "##### f.   Entre 4.0 e zero        E"
   ]
  },
  {
   "cell_type": "code",
   "execution_count": 24,
   "id": "b648654f-a7bc-44ae-aa22-e0bf935c63f5",
   "metadata": {},
   "outputs": [
    {
     "name": "stdin",
     "output_type": "stream",
     "text": [
      "Insira sua nota 1:  10\n",
      "Insira sua nota 2:  40\n"
     ]
    },
    {
     "name": "stdout",
     "output_type": "stream",
     "text": [
      "Seu conceito é A\n"
     ]
    }
   ],
   "source": [
    "nota1 = float(input(\"Insira sua nota 1: \"))\n",
    "nota2 = float(input(\"Insira sua nota 2: \"))\n",
    "media = (nota1 + nota2) / 2\n",
    "\n",
    "if media <= 4:\n",
    "    print(\"Seu conceito é E\")\n",
    "elif media >= 4 and media <= 6:\n",
    "    print(\"Seu conceito é D\")\n",
    "elif media >= 6 and media <= 7.5:\n",
    "    print(\"Seu conceito é C\")\n",
    "elif media >= 7.5 and media <= 9:\n",
    "    print(\"Seu conceito é B\")\n",
    "else:\n",
    "    print(\"Seu conceito é A\")"
   ]
  },
  {
   "cell_type": "code",
   "execution_count": null,
   "id": "538dd1da-de68-455d-8d63-ec465a854104",
   "metadata": {},
   "outputs": [],
   "source": []
  }
 ],
 "metadata": {
  "kernelspec": {
   "display_name": "Python 3 (ipykernel)",
   "language": "python",
   "name": "python3"
  },
  "language_info": {
   "codemirror_mode": {
    "name": "ipython",
    "version": 3
   },
   "file_extension": ".py",
   "mimetype": "text/x-python",
   "name": "python",
   "nbconvert_exporter": "python",
   "pygments_lexer": "ipython3",
   "version": "3.12.7"
  }
 },
 "nbformat": 4,
 "nbformat_minor": 5
}
