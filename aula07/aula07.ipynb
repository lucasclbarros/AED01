{
 "cells": [
  {
   "cell_type": "code",
   "execution_count": 21,
   "id": "04b09166-78a8-41b1-9277-6515820dbfc5",
   "metadata": {},
   "outputs": [
    {
     "name": "stdin",
     "output_type": "stream",
     "text": [
      "Qual sua idade?  16\n"
     ]
    }
   ],
   "source": [
    "idade = int(input(\"Qual sua idade? \"))"
   ]
  },
  {
   "cell_type": "code",
   "execution_count": 25,
   "id": "dbc47a44-16de-4440-b072-a4da7dea7c02",
   "metadata": {},
   "outputs": [
    {
     "name": "stdout",
     "output_type": "stream",
     "text": [
      "Espere mais um pouco!\n",
      "Viva e aproveite a sua juventude!\n",
      "Fim\n"
     ]
    }
   ],
   "source": [
    " if (idade>=18):\n",
    "            print(\"Parabéns! você já é maior de idade\")\n",
    "else:\n",
    "    print(\"Espere mais um pouco!\")\n",
    "    print(\"Viva e aproveite a sua juventude!\")\n",
    "print(\"Fim\") "
   ]
  },
  {
   "cell_type": "code",
   "execution_count": 29,
   "id": "cafd8162-9272-4fd6-9257-d9665188b11d",
   "metadata": {},
   "outputs": [
    {
     "name": "stdin",
     "output_type": "stream",
     "text": [
      "Entre com nota1:  5\n",
      "Entre com nota2:  8\n"
     ]
    },
    {
     "name": "stdout",
     "output_type": "stream",
     "text": [
      "A média é: 6.5\n",
      "Aprovado!\n"
     ]
    }
   ],
   "source": [
    "nota1 = float(input(\"Entre com nota1: \"))\n",
    "nota2 = float(input(\"Entre com nota2: \"))\n",
    "# Calculando a média final\n",
    "media = (nota1 + nota2) / 2\n",
    "# mostrando a média\n",
    "print(\"A média é:\", media)\n",
    "if media >= 6:\n",
    "    print(\"Aprovado!\")\n",
    "else:\n",
    "    print:(\"Reprovado!\")"
   ]
  },
  {
   "cell_type": "code",
   "execution_count": 33,
   "id": "2ba51525-a6df-43e6-b94b-1eb053ac7526",
   "metadata": {},
   "outputs": [
    {
     "name": "stdin",
     "output_type": "stream",
     "text": [
      "Fruta Abacate\n"
     ]
    },
    {
     "name": "stdout",
     "output_type": "stream",
     "text": [
      "Desculpe. Não temos Abacate\n"
     ]
    }
   ],
   "source": [
    "fruta = input(\"Fruta\")\n",
    "if (fruta == \"Banana\"):\n",
    "    print(\"O quilo da Banana é 5,23 reais\")\n",
    "elif (fruta == \"Maça\"):\n",
    "    print(\"O quilo da Maça é 12,10 reais\")\n",
    "elif (fruta == \"Cereja\"):\n",
    "    print (\"O quilo da Cereja é 58,00 reais\")\n",
    "else:\n",
    "    print(\"Desculpe. Não temos\", fruta)"
   ]
  },
  {
   "cell_type": "code",
   "execution_count": 50,
   "id": "9f4c8f47-4f6e-4fdb-9884-dee9b4719223",
   "metadata": {},
   "outputs": [
    {
     "name": "stdin",
     "output_type": "stream",
     "text": [
      " Entre com um número:  -5\n"
     ]
    },
    {
     "name": "stdout",
     "output_type": "stream",
     "text": [
      "-5  é impar negativo!\n"
     ]
    }
   ],
   "source": [
    "n = int(input(\" Entre com um número: \"))\n",
    "if (n >= 0):\n",
    "    if (n % 2) == 0:\n",
    "        print(n, \" é par positivo!\")\n",
    "    else:\n",
    "        print(n, \" é impar positivo!\")\n",
    "else:\n",
    "    if (abs(n) % 2) == 0:\n",
    "        print(n,\" é par negativo!\")\n",
    "    else:\n",
    "        print(n, \" é impar negativo!\")"
   ]
  },
  {
   "cell_type": "code",
   "execution_count": null,
   "id": "60792eff-d080-434d-89b2-634624751ee6",
   "metadata": {},
   "outputs": [],
   "source": []
  }
 ],
 "metadata": {
  "kernelspec": {
   "display_name": "Python [conda env:base] *",
   "language": "python",
   "name": "conda-base-py"
  },
  "language_info": {
   "codemirror_mode": {
    "name": "ipython",
    "version": 3
   },
   "file_extension": ".py",
   "mimetype": "text/x-python",
   "name": "python",
   "nbconvert_exporter": "python",
   "pygments_lexer": "ipython3",
   "version": "3.12.7"
  }
 },
 "nbformat": 4,
 "nbformat_minor": 5
}
