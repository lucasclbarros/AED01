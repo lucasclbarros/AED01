{
  "cells": [
    {
      "cell_type": "markdown",
      "id": "ff97a196-7807-43ae-92f3-1a6ffae3bee1",
      "metadata": {
        "id": "ff97a196-7807-43ae-92f3-1a6ffae3bee1"
      },
      "source": [
        "# TIPO INTEIRO"
      ]
    },
    {
      "cell_type": "code",
      "execution_count": null,
      "id": "98932f5e-a442-42a6-b6a0-7f1b1c2c76f6",
      "metadata": {
        "id": "98932f5e-a442-42a6-b6a0-7f1b1c2c76f6",
        "outputId": "46eda7f9-4a73-45fb-da4e-994b35217025"
      },
      "outputs": [
        {
          "data": {
            "text/plain": [
              "10"
            ]
          },
          "execution_count": 162,
          "metadata": {},
          "output_type": "execute_result"
        }
      ],
      "source": [
        "10"
      ]
    },
    {
      "cell_type": "code",
      "execution_count": null,
      "id": "d4825637-01ee-4551-9dc9-601e725afbfa",
      "metadata": {
        "id": "d4825637-01ee-4551-9dc9-601e725afbfa"
      },
      "outputs": [],
      "source": [
        "num =10"
      ]
    },
    {
      "cell_type": "code",
      "execution_count": null,
      "id": "e33dbb66-cf68-451c-812e-2cad682d602e",
      "metadata": {
        "id": "e33dbb66-cf68-451c-812e-2cad682d602e",
        "outputId": "02cf4d26-7b64-45f6-e8d2-f3656c822dbe"
      },
      "outputs": [
        {
          "data": {
            "text/plain": [
              "10"
            ]
          },
          "execution_count": 166,
          "metadata": {},
          "output_type": "execute_result"
        }
      ],
      "source": [
        "num"
      ]
    },
    {
      "cell_type": "code",
      "execution_count": null,
      "id": "ecdf1387-2ea4-4898-86e9-6813a609a312",
      "metadata": {
        "id": "ecdf1387-2ea4-4898-86e9-6813a609a312",
        "outputId": "11117134-3a96-4e04-ce68-7585334ac2eb"
      },
      "outputs": [
        {
          "data": {
            "text/plain": [
              "int"
            ]
          },
          "execution_count": 168,
          "metadata": {},
          "output_type": "execute_result"
        }
      ],
      "source": [
        "type(num)"
      ]
    },
    {
      "cell_type": "code",
      "execution_count": null,
      "id": "c70dd5ae-081f-4c44-ad37-e7240ea69aac",
      "metadata": {
        "id": "c70dd5ae-081f-4c44-ad37-e7240ea69aac",
        "outputId": "e0354d96-998d-427a-f8e2-f7b20586f3af"
      },
      "outputs": [
        {
          "data": {
            "text/plain": [
              "30"
            ]
          },
          "execution_count": 170,
          "metadata": {},
          "output_type": "execute_result"
        }
      ],
      "source": [
        "10+20"
      ]
    },
    {
      "cell_type": "code",
      "execution_count": null,
      "id": "ac0154b3-c147-45c3-9279-d2afc44bcdf2",
      "metadata": {
        "id": "ac0154b3-c147-45c3-9279-d2afc44bcdf2",
        "outputId": "d2a60a79-3a2e-4a1b-f182-a3f7d1aeb395"
      },
      "outputs": [
        {
          "data": {
            "text/plain": [
              "3.5"
            ]
          },
          "execution_count": 172,
          "metadata": {},
          "output_type": "execute_result"
        }
      ],
      "source": [
        "7/2"
      ]
    },
    {
      "cell_type": "code",
      "execution_count": null,
      "id": "d5c7460c-d370-46f2-87bb-8de4f34a86c3",
      "metadata": {
        "id": "d5c7460c-d370-46f2-87bb-8de4f34a86c3"
      },
      "outputs": [],
      "source": [
        "num = 20"
      ]
    },
    {
      "cell_type": "code",
      "execution_count": null,
      "id": "1637fa77-11ea-46c2-acbe-0ccfff8c6310",
      "metadata": {
        "id": "1637fa77-11ea-46c2-acbe-0ccfff8c6310",
        "outputId": "80381b00-916e-42e6-f908-b628c634aa4c"
      },
      "outputs": [
        {
          "data": {
            "text/plain": [
              "20"
            ]
          },
          "execution_count": 176,
          "metadata": {},
          "output_type": "execute_result"
        }
      ],
      "source": [
        "num"
      ]
    },
    {
      "cell_type": "code",
      "execution_count": null,
      "id": "6426baa1-f295-4396-ac8e-19cd8b5a7e86",
      "metadata": {
        "id": "6426baa1-f295-4396-ac8e-19cd8b5a7e86"
      },
      "outputs": [],
      "source": [
        "x = 5"
      ]
    },
    {
      "cell_type": "code",
      "execution_count": null,
      "id": "01e59e11-658a-417b-8559-590a7301a85d",
      "metadata": {
        "id": "01e59e11-658a-417b-8559-590a7301a85d",
        "outputId": "943f0c7d-52f5-4071-b726-3774943b8326"
      },
      "outputs": [
        {
          "data": {
            "text/plain": [
              "25"
            ]
          },
          "execution_count": 180,
          "metadata": {},
          "output_type": "execute_result"
        }
      ],
      "source": [
        "num + x"
      ]
    },
    {
      "cell_type": "code",
      "execution_count": null,
      "id": "c8bd9862-bf5f-4985-880f-0d5be06732d9",
      "metadata": {
        "id": "c8bd9862-bf5f-4985-880f-0d5be06732d9"
      },
      "outputs": [],
      "source": [
        "soma = num + x"
      ]
    },
    {
      "cell_type": "code",
      "execution_count": null,
      "id": "a4ee0e90-5b99-4d4b-af24-f17cb9ca277b",
      "metadata": {
        "id": "a4ee0e90-5b99-4d4b-af24-f17cb9ca277b",
        "outputId": "542bc390-bbc9-4774-b865-5c1700dc23d6"
      },
      "outputs": [
        {
          "data": {
            "text/plain": [
              "25"
            ]
          },
          "execution_count": 184,
          "metadata": {},
          "output_type": "execute_result"
        }
      ],
      "source": [
        "soma"
      ]
    },
    {
      "cell_type": "code",
      "execution_count": null,
      "id": "6232bd48-b544-4645-9d79-1916deb97847",
      "metadata": {
        "id": "6232bd48-b544-4645-9d79-1916deb97847"
      },
      "outputs": [],
      "source": [
        "mult = num * x"
      ]
    },
    {
      "cell_type": "code",
      "execution_count": null,
      "id": "440fd2e9-0cef-4f8b-af03-3fac42fbc833",
      "metadata": {
        "id": "440fd2e9-0cef-4f8b-af03-3fac42fbc833",
        "outputId": "5c97299a-0da0-46a6-c031-c7bd39ba40fc"
      },
      "outputs": [
        {
          "data": {
            "text/plain": [
              "100"
            ]
          },
          "execution_count": 188,
          "metadata": {},
          "output_type": "execute_result"
        }
      ],
      "source": [
        "mult"
      ]
    },
    {
      "cell_type": "code",
      "execution_count": null,
      "id": "c3cd4446-c48b-4698-b717-9b1dd6dc6515",
      "metadata": {
        "id": "c3cd4446-c48b-4698-b717-9b1dd6dc6515",
        "outputId": "ddd6a415-f413-4064-8787-baf8d8b8a900"
      },
      "outputs": [
        {
          "data": {
            "text/plain": [
              "107150860718626732094842504906000181056140481170553360744375038837035105112493612249319837881569585812759467291755314682518714528569231404359845775746985748039345677748242309854210746050623711418779541821530464749835819412673987675591655439460770629145711964776865421676604298316526243868372056680693760000000000000000000000000000000000000000000000000000000000000000000000000000000000000000000000000000000000000000000000000000000000000000000000000000000000000000000000000000000000000000000000000000000000000000000000000000000000000000000000000000000000000000000000000000000000000000000000000000000000000000000000000000000000000000000000000000000000000000000000000000000000000000000000000000000000000000000000000000000000000000000000000000000000000000000000000000000000000000000000000000000000000000000000000000000000000000000000000000000000000000000000000000000000000000000000000000000000000000000000000000000000000000000000000000000000000000000000000000000000000000000000000000000000000000000000000000000000000000000000000000000000000000000000000000000000000000000000000000000000000000000000000000000000000000000000000000000000000000000000000000000000000000000000000000000000000000000000000000000000000000000000000000000000000000000000000000000000000000000000000000000000000000000000000000000000000000"
            ]
          },
          "execution_count": 190,
          "metadata": {},
          "output_type": "execute_result"
        }
      ],
      "source": [
        "20**1000"
      ]
    },
    {
      "cell_type": "code",
      "execution_count": null,
      "id": "d2d6ebd0-93c6-454f-a978-833636cc034b",
      "metadata": {
        "id": "d2d6ebd0-93c6-454f-a978-833636cc034b"
      },
      "outputs": [],
      "source": [
        "x = num - 30"
      ]
    },
    {
      "cell_type": "code",
      "execution_count": null,
      "id": "73c2da50-4789-40f8-a90f-50c93996d119",
      "metadata": {
        "id": "73c2da50-4789-40f8-a90f-50c93996d119",
        "outputId": "ac63dcb3-fc63-4628-c51d-1850b19bc32e"
      },
      "outputs": [
        {
          "data": {
            "text/plain": [
              "-10"
            ]
          },
          "execution_count": 194,
          "metadata": {},
          "output_type": "execute_result"
        }
      ],
      "source": [
        "x"
      ]
    },
    {
      "cell_type": "code",
      "execution_count": null,
      "id": "40f16892-2ce9-4877-96e8-e624b3af5f79",
      "metadata": {
        "id": "40f16892-2ce9-4877-96e8-e624b3af5f79",
        "outputId": "4e2fcbb8-82e9-4f99-e520-5387f97a0163"
      },
      "outputs": [
        {
          "data": {
            "text/plain": [
              "3"
            ]
          },
          "execution_count": 196,
          "metadata": {},
          "output_type": "execute_result"
        }
      ],
      "source": [
        "7//2"
      ]
    },
    {
      "cell_type": "code",
      "execution_count": null,
      "id": "0401f0b4-3d69-44fb-bcb6-498667744733",
      "metadata": {
        "id": "0401f0b4-3d69-44fb-bcb6-498667744733",
        "outputId": "19e0ad84-b8e2-429a-a655-18d8154000e7"
      },
      "outputs": [
        {
          "data": {
            "text/plain": [
              "1"
            ]
          },
          "execution_count": 198,
          "metadata": {},
          "output_type": "execute_result"
        }
      ],
      "source": [
        "7%2"
      ]
    },
    {
      "cell_type": "code",
      "execution_count": null,
      "id": "2a65d140-771f-486f-8273-232617869682",
      "metadata": {
        "id": "2a65d140-771f-486f-8273-232617869682"
      },
      "outputs": [],
      "source": [
        "num = x + 3"
      ]
    },
    {
      "cell_type": "code",
      "execution_count": null,
      "id": "d0ba6c92-a3ec-43ef-ae9c-0307a101df8f",
      "metadata": {
        "id": "d0ba6c92-a3ec-43ef-ae9c-0307a101df8f",
        "outputId": "c8f06fe6-49b2-4a56-8bfd-2334034229d9"
      },
      "outputs": [
        {
          "data": {
            "text/plain": [
              "-7"
            ]
          },
          "execution_count": 202,
          "metadata": {},
          "output_type": "execute_result"
        }
      ],
      "source": [
        "num"
      ]
    },
    {
      "cell_type": "code",
      "execution_count": null,
      "id": "693f3d27-6deb-4d79-b79c-4da1ee77398b",
      "metadata": {
        "id": "693f3d27-6deb-4d79-b79c-4da1ee77398b"
      },
      "outputs": [],
      "source": [
        "num = num + 20"
      ]
    },
    {
      "cell_type": "code",
      "execution_count": null,
      "id": "11541a47-00ed-494c-9244-be29620b5d3e",
      "metadata": {
        "id": "11541a47-00ed-494c-9244-be29620b5d3e",
        "outputId": "cdbc187b-6562-49b4-9dc9-21987160cd16"
      },
      "outputs": [
        {
          "data": {
            "text/plain": [
              "13"
            ]
          },
          "execution_count": 206,
          "metadata": {},
          "output_type": "execute_result"
        }
      ],
      "source": [
        "num"
      ]
    },
    {
      "cell_type": "code",
      "execution_count": null,
      "id": "1daf50dc-c252-49f1-ab1d-3f49cbf04d53",
      "metadata": {
        "id": "1daf50dc-c252-49f1-ab1d-3f49cbf04d53"
      },
      "outputs": [],
      "source": [
        "num += 20"
      ]
    },
    {
      "cell_type": "code",
      "execution_count": null,
      "id": "88a8c903-1bdb-41a0-a607-f7297707de41",
      "metadata": {
        "id": "88a8c903-1bdb-41a0-a607-f7297707de41",
        "outputId": "cf56dac0-fbba-4ff3-e8f7-3cfc64e721cd"
      },
      "outputs": [
        {
          "data": {
            "text/plain": [
              "33"
            ]
          },
          "execution_count": 210,
          "metadata": {},
          "output_type": "execute_result"
        }
      ],
      "source": [
        "num"
      ]
    },
    {
      "cell_type": "code",
      "execution_count": null,
      "id": "e9c7b4e7-3d61-4abb-8b61-b981eb6a364f",
      "metadata": {
        "id": "e9c7b4e7-3d61-4abb-8b61-b981eb6a364f",
        "outputId": "1f61bec7-3fb4-4da4-e2fe-e81d095216b8"
      },
      "outputs": [
        {
          "name": "stdout",
          "output_type": "stream",
          "text": [
            "13\n"
          ]
        }
      ],
      "source": [
        "num -= 20\n",
        "print(num)"
      ]
    },
    {
      "cell_type": "code",
      "execution_count": null,
      "id": "4b6b6713-4091-46f8-8443-a2362d2fc676",
      "metadata": {
        "id": "4b6b6713-4091-46f8-8443-a2362d2fc676",
        "outputId": "990a6c30-f7e4-485f-afb0-8835df269d21"
      },
      "outputs": [
        {
          "name": "stdout",
          "output_type": "stream",
          "text": [
            "26\n"
          ]
        }
      ],
      "source": [
        "num *= 2\n",
        "print(num)"
      ]
    },
    {
      "cell_type": "code",
      "execution_count": null,
      "id": "df05d018-d04f-48c9-9ef5-0784486f2e7d",
      "metadata": {
        "id": "df05d018-d04f-48c9-9ef5-0784486f2e7d",
        "outputId": "d3ddca09-de5f-499e-9b00-4982d4f0fe3c"
      },
      "outputs": [
        {
          "name": "stdout",
          "output_type": "stream",
          "text": [
            "2.0\n"
          ]
        }
      ],
      "source": [
        "num /= 13\n",
        "print(num)"
      ]
    },
    {
      "cell_type": "code",
      "execution_count": null,
      "id": "47343402-ac82-44fb-bfc7-b9b92389fe1b",
      "metadata": {
        "id": "47343402-ac82-44fb-bfc7-b9b92389fe1b",
        "outputId": "1f20217b-e900-4a67-9b74-144878ad70c3"
      },
      "outputs": [
        {
          "data": {
            "text/plain": [
              "float"
            ]
          },
          "execution_count": 220,
          "metadata": {},
          "output_type": "execute_result"
        }
      ],
      "source": [
        "type(num)"
      ]
    },
    {
      "cell_type": "markdown",
      "id": "cbc205b1-f44d-416e-9331-b99e1e6e6d56",
      "metadata": {
        "id": "cbc205b1-f44d-416e-9331-b99e1e6e6d56"
      },
      "source": [
        "# TIPO FLOAT"
      ]
    },
    {
      "cell_type": "code",
      "execution_count": null,
      "id": "63449a1f-feec-4d11-b901-27e3ba61c66a",
      "metadata": {
        "id": "63449a1f-feec-4d11-b901-27e3ba61c66a",
        "outputId": "93f2f93e-5e9d-48ee-c1ac-737455e77e2d"
      },
      "outputs": [
        {
          "data": {
            "text/plain": [
              "float"
            ]
          },
          "execution_count": 224,
          "metadata": {},
          "output_type": "execute_result"
        }
      ],
      "source": [
        "type(num)"
      ]
    },
    {
      "cell_type": "code",
      "execution_count": null,
      "id": "7306fccb-f121-4679-b93f-589791671e1a",
      "metadata": {
        "id": "7306fccb-f121-4679-b93f-589791671e1a",
        "outputId": "b3f88a07-2783-4016-c8f6-44fc33d363a6"
      },
      "outputs": [
        {
          "name": "stdout",
          "output_type": "stream",
          "text": [
            "2.0\n"
          ]
        }
      ],
      "source": [
        "print(num)"
      ]
    },
    {
      "cell_type": "code",
      "execution_count": null,
      "id": "7bc27480-92b6-4ca0-adb4-dc173a5cc7e9",
      "metadata": {
        "id": "7bc27480-92b6-4ca0-adb4-dc173a5cc7e9",
        "outputId": "0befb0d3-d201-4519-9c4b-a67706a4992f"
      },
      "outputs": [
        {
          "data": {
            "text/plain": [
              "31.0"
            ]
          },
          "execution_count": 228,
          "metadata": {},
          "output_type": "execute_result"
        }
      ],
      "source": [
        "10.44 + 20.56"
      ]
    },
    {
      "cell_type": "code",
      "execution_count": null,
      "id": "31bf2c82-5979-48a1-83ef-d976feeb9654",
      "metadata": {
        "id": "31bf2c82-5979-48a1-83ef-d976feeb9654"
      },
      "outputs": [],
      "source": [
        "num *= 2.2"
      ]
    },
    {
      "cell_type": "code",
      "execution_count": null,
      "id": "b6bee1be-3dcd-41f5-9d23-1cc811c6a853",
      "metadata": {
        "id": "b6bee1be-3dcd-41f5-9d23-1cc811c6a853",
        "outputId": "713db168-edc4-4954-a021-86903db11ca4"
      },
      "outputs": [
        {
          "data": {
            "text/plain": [
              "4.4"
            ]
          },
          "execution_count": 232,
          "metadata": {},
          "output_type": "execute_result"
        }
      ],
      "source": [
        "num"
      ]
    },
    {
      "cell_type": "code",
      "execution_count": null,
      "id": "0958856f-7969-4679-bc41-2e4a4f266e12",
      "metadata": {
        "id": "0958856f-7969-4679-bc41-2e4a4f266e12",
        "outputId": "4fd6f90f-aea2-4e5e-e33a-ca5f89884b0c"
      },
      "outputs": [
        {
          "name": "stdout",
          "output_type": "stream",
          "text": [
            "4.4\n"
          ]
        }
      ],
      "source": [
        "print(num)"
      ]
    },
    {
      "cell_type": "markdown",
      "id": "eeea0d6c-c920-4505-ae04-e2895009845f",
      "metadata": {
        "id": "eeea0d6c-c920-4505-ae04-e2895009845f"
      },
      "source": [
        "# NÚMEROS COMPLEXOS (ENGENHARIA)"
      ]
    },
    {
      "cell_type": "code",
      "execution_count": null,
      "id": "0018f0b3-e26f-42a0-8297-9386a7b66c45",
      "metadata": {
        "id": "0018f0b3-e26f-42a0-8297-9386a7b66c45",
        "outputId": "a851a654-7e86-4033-b88e-ddea705bc7f7"
      },
      "outputs": [
        {
          "data": {
            "text/plain": [
              "5j"
            ]
          },
          "execution_count": 237,
          "metadata": {},
          "output_type": "execute_result"
        }
      ],
      "source": [
        "5j"
      ]
    },
    {
      "cell_type": "code",
      "execution_count": null,
      "id": "5d33f080-299d-4d4c-b7c0-120cb67a7b4a",
      "metadata": {
        "id": "5d33f080-299d-4d4c-b7c0-120cb67a7b4a"
      },
      "outputs": [],
      "source": [
        "y = 6 + 5j"
      ]
    },
    {
      "cell_type": "code",
      "execution_count": null,
      "id": "ce782c0f-8e97-4a13-9bdf-bab05dbb51a3",
      "metadata": {
        "id": "ce782c0f-8e97-4a13-9bdf-bab05dbb51a3",
        "outputId": "684f8f54-c78e-4d69-e6af-5627cd64caaf"
      },
      "outputs": [
        {
          "data": {
            "text/plain": [
              "(6+5j)"
            ]
          },
          "execution_count": 241,
          "metadata": {},
          "output_type": "execute_result"
        }
      ],
      "source": [
        "y"
      ]
    },
    {
      "cell_type": "code",
      "execution_count": null,
      "id": "96a592cc-3fd6-4808-9292-24fef4059ef2",
      "metadata": {
        "id": "96a592cc-3fd6-4808-9292-24fef4059ef2",
        "outputId": "03a1d2f4-fa18-4fbf-a60c-8ef1793b98de"
      },
      "outputs": [
        {
          "data": {
            "text/plain": [
              "complex"
            ]
          },
          "execution_count": 243,
          "metadata": {},
          "output_type": "execute_result"
        }
      ],
      "source": [
        "type(y)"
      ]
    },
    {
      "cell_type": "markdown",
      "id": "8f6c9793-f2a8-42f2-befd-aacbc176470d",
      "metadata": {
        "id": "8f6c9793-f2a8-42f2-befd-aacbc176470d"
      },
      "source": [
        "# TIPO BOOLEANO (BOOL)"
      ]
    },
    {
      "cell_type": "code",
      "execution_count": null,
      "id": "451b7ec3-8126-448e-8ae4-11df01e4ab12",
      "metadata": {
        "id": "451b7ec3-8126-448e-8ae4-11df01e4ab12"
      },
      "outputs": [],
      "source": [
        "flag = True"
      ]
    },
    {
      "cell_type": "code",
      "execution_count": null,
      "id": "f0b52890-b366-45e1-b5be-408c04403a47",
      "metadata": {
        "id": "f0b52890-b366-45e1-b5be-408c04403a47",
        "outputId": "2b368011-1e9a-4948-cce5-77f93185ef9e"
      },
      "outputs": [
        {
          "data": {
            "text/plain": [
              "bool"
            ]
          },
          "execution_count": 248,
          "metadata": {},
          "output_type": "execute_result"
        }
      ],
      "source": [
        "type(flag)"
      ]
    },
    {
      "cell_type": "code",
      "execution_count": null,
      "id": "4a53c778-a072-4544-9118-da3fddf25f55",
      "metadata": {
        "id": "4a53c778-a072-4544-9118-da3fddf25f55",
        "outputId": "297a3a89-2dee-4752-efc5-e87aee4fde5e"
      },
      "outputs": [
        {
          "data": {
            "text/plain": [
              "True"
            ]
          },
          "execution_count": 250,
          "metadata": {},
          "output_type": "execute_result"
        }
      ],
      "source": [
        "flag"
      ]
    },
    {
      "cell_type": "code",
      "execution_count": null,
      "id": "a3ad09ce-d363-4e90-adb6-79632b417b61",
      "metadata": {
        "id": "a3ad09ce-d363-4e90-adb6-79632b417b61",
        "outputId": "c847127c-df55-4944-8800-18d31f134a5f"
      },
      "outputs": [
        {
          "data": {
            "text/plain": [
              "False"
            ]
          },
          "execution_count": 252,
          "metadata": {},
          "output_type": "execute_result"
        }
      ],
      "source": [
        "not flag"
      ]
    },
    {
      "cell_type": "code",
      "execution_count": null,
      "id": "bcf32105-f855-4767-ab56-d72a8932e147",
      "metadata": {
        "id": "bcf32105-f855-4767-ab56-d72a8932e147"
      },
      "outputs": [],
      "source": [
        "x = flag and False"
      ]
    },
    {
      "cell_type": "code",
      "execution_count": null,
      "id": "9bcdf262-3f37-47c1-ac71-5d31beba1a8b",
      "metadata": {
        "id": "9bcdf262-3f37-47c1-ac71-5d31beba1a8b",
        "outputId": "c69261d1-a285-4ebd-c32f-efe4383d3b69"
      },
      "outputs": [
        {
          "data": {
            "text/plain": [
              "False"
            ]
          },
          "execution_count": 256,
          "metadata": {},
          "output_type": "execute_result"
        }
      ],
      "source": [
        "x"
      ]
    },
    {
      "cell_type": "markdown",
      "id": "1c8bc06a-25e0-4414-badb-4990796f9663",
      "metadata": {
        "id": "1c8bc06a-25e0-4414-badb-4990796f9663"
      },
      "source": [
        "# TIPO STRING"
      ]
    },
    {
      "cell_type": "code",
      "execution_count": null,
      "id": "5be47d30-2ea9-4217-a25f-5064c6d365a0",
      "metadata": {
        "id": "5be47d30-2ea9-4217-a25f-5064c6d365a0"
      },
      "outputs": [],
      "source": [
        "letra = \"a\""
      ]
    },
    {
      "cell_type": "code",
      "execution_count": null,
      "id": "7a605338-1d1e-44ca-9a55-9798196e6abc",
      "metadata": {
        "id": "7a605338-1d1e-44ca-9a55-9798196e6abc",
        "outputId": "ca80604c-a941-4978-f029-7aa1ed0b1a60"
      },
      "outputs": [
        {
          "data": {
            "text/plain": [
              "str"
            ]
          },
          "execution_count": 261,
          "metadata": {},
          "output_type": "execute_result"
        }
      ],
      "source": [
        "type(letra)"
      ]
    },
    {
      "cell_type": "code",
      "execution_count": null,
      "id": "076bee0f-eb7f-47a4-b40f-a66323c7f052",
      "metadata": {
        "id": "076bee0f-eb7f-47a4-b40f-a66323c7f052"
      },
      "outputs": [],
      "source": [
        "frase = 'Batatinha quando nasce, espalha rama pelo chão'"
      ]
    },
    {
      "cell_type": "code",
      "execution_count": null,
      "id": "4b1e9f78-df75-4713-8ea8-11b7569e6e27",
      "metadata": {
        "id": "4b1e9f78-df75-4713-8ea8-11b7569e6e27",
        "outputId": "1cf53611-999a-45f9-c9b8-a6aa2c6e2944"
      },
      "outputs": [
        {
          "data": {
            "text/plain": [
              "'Batatinha quando nasce, espalha rama pelo chão'"
            ]
          },
          "execution_count": 271,
          "metadata": {},
          "output_type": "execute_result"
        }
      ],
      "source": [
        "frase"
      ]
    },
    {
      "cell_type": "code",
      "execution_count": null,
      "id": "8db264de-283f-4af6-a036-e1bfd0b39074",
      "metadata": {
        "id": "8db264de-283f-4af6-a036-e1bfd0b39074",
        "outputId": "01575455-9ce7-4d4d-a317-3985f55d7940"
      },
      "outputs": [
        {
          "data": {
            "text/plain": [
              "str"
            ]
          },
          "execution_count": 273,
          "metadata": {},
          "output_type": "execute_result"
        }
      ],
      "source": [
        "type(frase)"
      ]
    },
    {
      "cell_type": "code",
      "execution_count": null,
      "id": "d63a2357-99fa-43d0-acc6-a64307c99afc",
      "metadata": {
        "id": "d63a2357-99fa-43d0-acc6-a64307c99afc"
      },
      "outputs": [],
      "source": [
        "palavra = 'Python'"
      ]
    },
    {
      "cell_type": "code",
      "execution_count": null,
      "id": "0951bb8d-6e8a-4c40-ba1a-80fa73e5f2e6",
      "metadata": {
        "id": "0951bb8d-6e8a-4c40-ba1a-80fa73e5f2e6",
        "outputId": "5d3f5c62-f3ff-42d1-f8ad-2006f98adbb3"
      },
      "outputs": [
        {
          "data": {
            "text/plain": [
              "'Python'"
            ]
          },
          "execution_count": 277,
          "metadata": {},
          "output_type": "execute_result"
        }
      ],
      "source": [
        "palavra"
      ]
    },
    {
      "cell_type": "code",
      "execution_count": null,
      "id": "139bb516-2096-463c-9fb7-81419718c8ee",
      "metadata": {
        "id": "139bb516-2096-463c-9fb7-81419718c8ee",
        "outputId": "b88cb3fa-3bae-46a1-c51b-4a974e05cf22"
      },
      "outputs": [
        {
          "data": {
            "text/plain": [
              "str"
            ]
          },
          "execution_count": 279,
          "metadata": {},
          "output_type": "execute_result"
        }
      ],
      "source": [
        "type(palavra)"
      ]
    },
    {
      "cell_type": "code",
      "execution_count": null,
      "id": "0287c878-13da-4e89-b13f-7693a9406a98",
      "metadata": {
        "id": "0287c878-13da-4e89-b13f-7693a9406a98",
        "outputId": "af54f27e-73ec-494d-ce74-9cde9b20ba37"
      },
      "outputs": [
        {
          "data": {
            "text/plain": [
              "'P'"
            ]
          },
          "execution_count": 281,
          "metadata": {},
          "output_type": "execute_result"
        }
      ],
      "source": [
        "palavra[0]"
      ]
    },
    {
      "cell_type": "code",
      "execution_count": null,
      "id": "506dc9c2-b714-492f-aaa0-c9c0fd8b36c3",
      "metadata": {
        "id": "506dc9c2-b714-492f-aaa0-c9c0fd8b36c3",
        "outputId": "3b366358-ee65-4260-824b-84a4efad705b"
      },
      "outputs": [
        {
          "data": {
            "text/plain": [
              "['__add__',\n",
              " '__class__',\n",
              " '__contains__',\n",
              " '__delattr__',\n",
              " '__dir__',\n",
              " '__doc__',\n",
              " '__eq__',\n",
              " '__format__',\n",
              " '__ge__',\n",
              " '__getattribute__',\n",
              " '__getitem__',\n",
              " '__getnewargs__',\n",
              " '__getstate__',\n",
              " '__gt__',\n",
              " '__hash__',\n",
              " '__init__',\n",
              " '__init_subclass__',\n",
              " '__iter__',\n",
              " '__le__',\n",
              " '__len__',\n",
              " '__lt__',\n",
              " '__mod__',\n",
              " '__mul__',\n",
              " '__ne__',\n",
              " '__new__',\n",
              " '__reduce__',\n",
              " '__reduce_ex__',\n",
              " '__repr__',\n",
              " '__rmod__',\n",
              " '__rmul__',\n",
              " '__setattr__',\n",
              " '__sizeof__',\n",
              " '__str__',\n",
              " '__subclasshook__',\n",
              " 'capitalize',\n",
              " 'casefold',\n",
              " 'center',\n",
              " 'count',\n",
              " 'encode',\n",
              " 'endswith',\n",
              " 'expandtabs',\n",
              " 'find',\n",
              " 'format',\n",
              " 'format_map',\n",
              " 'index',\n",
              " 'isalnum',\n",
              " 'isalpha',\n",
              " 'isascii',\n",
              " 'isdecimal',\n",
              " 'isdigit',\n",
              " 'isidentifier',\n",
              " 'islower',\n",
              " 'isnumeric',\n",
              " 'isprintable',\n",
              " 'isspace',\n",
              " 'istitle',\n",
              " 'isupper',\n",
              " 'join',\n",
              " 'ljust',\n",
              " 'lower',\n",
              " 'lstrip',\n",
              " 'maketrans',\n",
              " 'partition',\n",
              " 'removeprefix',\n",
              " 'removesuffix',\n",
              " 'replace',\n",
              " 'rfind',\n",
              " 'rindex',\n",
              " 'rjust',\n",
              " 'rpartition',\n",
              " 'rsplit',\n",
              " 'rstrip',\n",
              " 'split',\n",
              " 'splitlines',\n",
              " 'startswith',\n",
              " 'strip',\n",
              " 'swapcase',\n",
              " 'title',\n",
              " 'translate',\n",
              " 'upper',\n",
              " 'zfill']"
            ]
          },
          "execution_count": 301,
          "metadata": {},
          "output_type": "execute_result"
        }
      ],
      "source": [
        "dir(palavra)"
      ]
    },
    {
      "cell_type": "code",
      "execution_count": null,
      "id": "6e8fc41f-d4ca-4b29-be9f-4d448b7ac35f",
      "metadata": {
        "id": "6e8fc41f-d4ca-4b29-be9f-4d448b7ac35f",
        "outputId": "4a753eb2-d146-48d9-82b6-e4133c22f71d"
      },
      "outputs": [
        {
          "data": {
            "text/plain": [
              "'Python'"
            ]
          },
          "execution_count": 303,
          "metadata": {},
          "output_type": "execute_result"
        }
      ],
      "source": [
        "palavra"
      ]
    },
    {
      "cell_type": "code",
      "execution_count": null,
      "id": "520d9b8b-b841-4fff-a142-a5b00e284507",
      "metadata": {
        "id": "520d9b8b-b841-4fff-a142-a5b00e284507",
        "outputId": "2c81e1a7-faa7-42d0-9a59-6038f2c1e63d"
      },
      "outputs": [
        {
          "data": {
            "text/plain": [
              "'PYTHON'"
            ]
          },
          "execution_count": 305,
          "metadata": {},
          "output_type": "execute_result"
        }
      ],
      "source": [
        "palavra.upper()"
      ]
    },
    {
      "cell_type": "markdown",
      "id": "412f6794-ff45-4431-a7c8-7cc4de651ff2",
      "metadata": {
        "id": "412f6794-ff45-4431-a7c8-7cc4de651ff2"
      },
      "source": [
        "# FUNÇÕES EMBUTIDAS"
      ]
    },
    {
      "cell_type": "code",
      "execution_count": null,
      "id": "91a62626-8b1c-42c0-9195-93ba5ae95c68",
      "metadata": {
        "id": "91a62626-8b1c-42c0-9195-93ba5ae95c68",
        "outputId": "688314fd-178e-4d0a-81de-36938d2efb14"
      },
      "outputs": [
        {
          "data": {
            "text/plain": [
              "40"
            ]
          },
          "execution_count": 286,
          "metadata": {},
          "output_type": "execute_result"
        }
      ],
      "source": [
        "abs(40)"
      ]
    },
    {
      "cell_type": "code",
      "execution_count": null,
      "id": "0eaba035-6690-404a-bfa5-7cca2e7adb28",
      "metadata": {
        "id": "0eaba035-6690-404a-bfa5-7cca2e7adb28",
        "outputId": "46689f81-d15e-4178-dc22-cb7e709bd925"
      },
      "outputs": [
        {
          "data": {
            "text/plain": [
              "34"
            ]
          },
          "execution_count": 288,
          "metadata": {},
          "output_type": "execute_result"
        }
      ],
      "source": [
        "abs(-34)"
      ]
    },
    {
      "cell_type": "code",
      "execution_count": null,
      "id": "3c046a34-dcd3-4a91-b1aa-560e9366a245",
      "metadata": {
        "id": "3c046a34-dcd3-4a91-b1aa-560e9366a245",
        "outputId": "38b7d65b-3a7a-4824-db54-23dfe27532a4"
      },
      "outputs": [
        {
          "data": {
            "text/plain": [
              "'_'"
            ]
          },
          "execution_count": 293,
          "metadata": {},
          "output_type": "execute_result"
        }
      ],
      "source": [
        "chr(95)"
      ]
    },
    {
      "cell_type": "code",
      "execution_count": null,
      "id": "5453cf95-3e42-453b-8aa2-f8b5ba70f70d",
      "metadata": {
        "id": "5453cf95-3e42-453b-8aa2-f8b5ba70f70d",
        "outputId": "c5789e11-db94-4bd0-d998-6154ac86f0f0"
      },
      "outputs": [
        {
          "data": {
            "text/plain": [
              "'A'"
            ]
          },
          "execution_count": 295,
          "metadata": {},
          "output_type": "execute_result"
        }
      ],
      "source": [
        "chr(65)"
      ]
    },
    {
      "cell_type": "code",
      "execution_count": null,
      "id": "b8eb770a-1831-4188-96af-649d9a25b2c4",
      "metadata": {
        "id": "b8eb770a-1831-4188-96af-649d9a25b2c4",
        "outputId": "f26b67a9-5beb-406e-ea46-5dc2db6746d5"
      },
      "outputs": [
        {
          "data": {
            "text/plain": [
              "122"
            ]
          },
          "execution_count": 297,
          "metadata": {},
          "output_type": "execute_result"
        }
      ],
      "source": [
        "ord('z')"
      ]
    },
    {
      "cell_type": "code",
      "execution_count": null,
      "id": "7bf0903a-b483-428c-b57b-342fafbdcd47",
      "metadata": {
        "id": "7bf0903a-b483-428c-b57b-342fafbdcd47",
        "outputId": "e8650966-6d68-4138-ca7f-004ef5fd1841"
      },
      "outputs": [
        {
          "data": {
            "text/plain": [
              "'z'"
            ]
          },
          "execution_count": 299,
          "metadata": {},
          "output_type": "execute_result"
        }
      ],
      "source": [
        "chr(122)"
      ]
    },
    {
      "cell_type": "code",
      "execution_count": null,
      "id": "b2a11775-3c22-4a10-9e1c-1b79e8948ac7",
      "metadata": {
        "id": "b2a11775-3c22-4a10-9e1c-1b79e8948ac7",
        "outputId": "3ab4d688-30a1-43c0-f015-ee28d9da062d"
      },
      "outputs": [
        {
          "name": "stdout",
          "output_type": "stream",
          "text": [
            "Help on built-in function ord in module builtins:\n",
            "\n",
            "ord(c, /)\n",
            "    Return the Unicode code point for a one-character string.\n",
            "\n"
          ]
        }
      ],
      "source": [
        "help(ord)"
      ]
    },
    {
      "cell_type": "code",
      "execution_count": null,
      "id": "11b67475-83dc-48ab-b4a7-f525d1057d50",
      "metadata": {
        "id": "11b67475-83dc-48ab-b4a7-f525d1057d50"
      },
      "outputs": [],
      "source": []
    }
  ],
  "metadata": {
    "kernelspec": {
      "display_name": "Python [conda env:base] *",
      "language": "python",
      "name": "conda-base-py"
    },
    "language_info": {
      "codemirror_mode": {
        "name": "ipython",
        "version": 3
      },
      "file_extension": ".py",
      "mimetype": "text/x-python",
      "name": "python",
      "nbconvert_exporter": "python",
      "pygments_lexer": "ipython3",
      "version": "3.12.7"
    },
    "colab": {
      "provenance": []
    }
  },
  "nbformat": 4,
  "nbformat_minor": 5
}