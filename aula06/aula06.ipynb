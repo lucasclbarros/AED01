{
  "cells": [
    {
      "cell_type": "markdown",
      "id": "737637b0-c94d-4b48-9255-57bb62403867",
      "metadata": {
        "id": "737637b0-c94d-4b48-9255-57bb62403867"
      },
      "source": [
        "# Comandos de Entrada e Saída"
      ]
    },
    {
      "cell_type": "code",
      "execution_count": null,
      "id": "73e92ceb-b615-4a51-b446-e5a06b5baa4d",
      "metadata": {
        "id": "73e92ceb-b615-4a51-b446-e5a06b5baa4d"
      },
      "outputs": [],
      "source": [
        "nome = \"Lucas\"\n",
        "idade = 22"
      ]
    },
    {
      "cell_type": "code",
      "execution_count": null,
      "id": "e2c30b90-7843-4893-a8d1-7fbb82bccc8d",
      "metadata": {
        "id": "e2c30b90-7843-4893-a8d1-7fbb82bccc8d",
        "outputId": "a641f2e1-c160-4593-b7d1-f33b1c55b67b"
      },
      "outputs": [
        {
          "name": "stdout",
          "output_type": "stream",
          "text": [
            "Lucas  tem  22 anos!\n"
          ]
        }
      ],
      "source": [
        "print(nome, \" tem \", idade, \"anos!\")"
      ]
    },
    {
      "cell_type": "code",
      "execution_count": null,
      "id": "15a6ac8c-8612-4f3c-94f9-60b02682672e",
      "metadata": {
        "id": "15a6ac8c-8612-4f3c-94f9-60b02682672e",
        "outputId": "1f67d108-31d4-45b5-f679-bb1bbe6308a2"
      },
      "outputs": [
        {
          "name": "stdin",
          "output_type": "stream",
          "text": [
            "Digite seu nome:  Lucas\n"
          ]
        }
      ],
      "source": [
        "nome = input(\"Digite seu nome: \")"
      ]
    },
    {
      "cell_type": "code",
      "execution_count": null,
      "id": "50cc57ed-8cc3-4741-89c7-762810e91d6c",
      "metadata": {
        "id": "50cc57ed-8cc3-4741-89c7-762810e91d6c",
        "outputId": "b8b7855f-f3d2-496c-e2eb-1f0c7ccfd117"
      },
      "outputs": [
        {
          "name": "stdout",
          "output_type": "stream",
          "text": [
            "Lucas\n"
          ]
        }
      ],
      "source": [
        "print(nome)"
      ]
    },
    {
      "cell_type": "code",
      "execution_count": null,
      "id": "7d9a14df-e29b-41e6-a983-8665b82b847d",
      "metadata": {
        "id": "7d9a14df-e29b-41e6-a983-8665b82b847d",
        "outputId": "49797a51-42c3-4728-dc7c-547f1801eca1"
      },
      "outputs": [
        {
          "data": {
            "text/plain": [
              "str"
            ]
          },
          "execution_count": 14,
          "metadata": {},
          "output_type": "execute_result"
        }
      ],
      "source": [
        "type(nome)"
      ]
    },
    {
      "cell_type": "code",
      "execution_count": null,
      "id": "95840274-b4ff-474f-9353-17071eb303bb",
      "metadata": {
        "id": "95840274-b4ff-474f-9353-17071eb303bb",
        "outputId": "0576a212-15e2-4159-9a32-ec4ba15e6a1d"
      },
      "outputs": [
        {
          "name": "stdin",
          "output_type": "stream",
          "text": [
            "Digite sua idade:  22\n"
          ]
        }
      ],
      "source": [
        "idade = input(\"Digite sua idade: \")"
      ]
    },
    {
      "cell_type": "code",
      "execution_count": null,
      "id": "a90de62d-2e47-4428-8e90-8e3a37bb6a36",
      "metadata": {
        "id": "a90de62d-2e47-4428-8e90-8e3a37bb6a36"
      },
      "outputs": [],
      "source": [
        "idade = int(idade)"
      ]
    },
    {
      "cell_type": "code",
      "execution_count": null,
      "id": "c3e83b69-2236-4096-b791-34defb531eec",
      "metadata": {
        "id": "c3e83b69-2236-4096-b791-34defb531eec",
        "outputId": "50d51edc-d39b-47d6-bb06-fd9e7b3537b0"
      },
      "outputs": [
        {
          "data": {
            "text/plain": [
              "22"
            ]
          },
          "execution_count": 25,
          "metadata": {},
          "output_type": "execute_result"
        }
      ],
      "source": [
        "idade"
      ]
    },
    {
      "cell_type": "code",
      "execution_count": null,
      "id": "3f389731-0acf-4c4e-aa3b-8be92b97d7d5",
      "metadata": {
        "id": "3f389731-0acf-4c4e-aa3b-8be92b97d7d5",
        "outputId": "18328b3e-4303-4511-bd1c-450fe7a863f0"
      },
      "outputs": [
        {
          "name": "stdin",
          "output_type": "stream",
          "text": [
            "Digite sua idade 22\n"
          ]
        }
      ],
      "source": [
        "idade = int(input(\"Digite sua idade\"))"
      ]
    },
    {
      "cell_type": "code",
      "execution_count": null,
      "id": "45016e05-d1a6-4ea2-88a6-7ed70eebeffe",
      "metadata": {
        "id": "45016e05-d1a6-4ea2-88a6-7ed70eebeffe",
        "outputId": "8ae86ef5-3a23-43ea-e321-5bb6c04db404"
      },
      "outputs": [
        {
          "data": {
            "text/plain": [
              "22"
            ]
          },
          "execution_count": 29,
          "metadata": {},
          "output_type": "execute_result"
        }
      ],
      "source": [
        "idade"
      ]
    },
    {
      "cell_type": "code",
      "execution_count": null,
      "id": "35c46901-d11f-498b-9b16-087a377b9191",
      "metadata": {
        "id": "35c46901-d11f-498b-9b16-087a377b9191",
        "outputId": "b06494c0-fde3-4b00-cbd9-5d1a8bc54fee"
      },
      "outputs": [
        {
          "data": {
            "text/plain": [
              "int"
            ]
          },
          "execution_count": 31,
          "metadata": {},
          "output_type": "execute_result"
        }
      ],
      "source": [
        "type(idade)"
      ]
    },
    {
      "cell_type": "code",
      "execution_count": null,
      "id": "7dbf6747-6344-4cd3-a0e4-a77425672236",
      "metadata": {
        "id": "7dbf6747-6344-4cd3-a0e4-a77425672236"
      },
      "outputs": [],
      "source": [
        "idade = float(idade)"
      ]
    },
    {
      "cell_type": "code",
      "execution_count": null,
      "id": "834e7c6e-2fa0-439d-82f5-cc344d09a49a",
      "metadata": {
        "id": "834e7c6e-2fa0-439d-82f5-cc344d09a49a",
        "outputId": "f63a75f5-3784-4db7-e7e2-16509380c64a"
      },
      "outputs": [
        {
          "data": {
            "text/plain": [
              "float"
            ]
          },
          "execution_count": 35,
          "metadata": {},
          "output_type": "execute_result"
        }
      ],
      "source": [
        "type(idade)"
      ]
    },
    {
      "cell_type": "code",
      "execution_count": null,
      "id": "28056ab9-c2cf-4696-9a05-7a4c464b7bff",
      "metadata": {
        "id": "28056ab9-c2cf-4696-9a05-7a4c464b7bff"
      },
      "outputs": [],
      "source": [
        "idade = int(idade)"
      ]
    },
    {
      "cell_type": "code",
      "execution_count": null,
      "id": "bff491d1-6823-4906-8fe6-5687917abfee",
      "metadata": {
        "id": "bff491d1-6823-4906-8fe6-5687917abfee",
        "outputId": "1979c5e2-69e6-4932-82dc-bcac5fc97c2f"
      },
      "outputs": [
        {
          "data": {
            "text/plain": [
              "22"
            ]
          },
          "execution_count": 39,
          "metadata": {},
          "output_type": "execute_result"
        }
      ],
      "source": [
        "idade"
      ]
    },
    {
      "cell_type": "code",
      "execution_count": null,
      "id": "ac1fcb71-cad0-46bb-8546-807a4d5914e4",
      "metadata": {
        "id": "ac1fcb71-cad0-46bb-8546-807a4d5914e4",
        "outputId": "44b8b14a-b3f0-403d-d5f8-e24dab4b11e6"
      },
      "outputs": [
        {
          "data": {
            "text/plain": [
              "int"
            ]
          },
          "execution_count": 41,
          "metadata": {},
          "output_type": "execute_result"
        }
      ],
      "source": [
        "type(idade)"
      ]
    },
    {
      "cell_type": "code",
      "execution_count": null,
      "id": "0ddc09d3-e8e5-49ca-a8a5-9f3566c76350",
      "metadata": {
        "id": "0ddc09d3-e8e5-49ca-a8a5-9f3566c76350"
      },
      "outputs": [],
      "source": [
        "idade = float(idade)"
      ]
    },
    {
      "cell_type": "code",
      "execution_count": null,
      "id": "1449470d-d06f-4ea1-9dd2-3b6797bf4b69",
      "metadata": {
        "id": "1449470d-d06f-4ea1-9dd2-3b6797bf4b69",
        "outputId": "99454b2f-fce1-413e-b507-f96a5be688b7"
      },
      "outputs": [
        {
          "data": {
            "text/plain": [
              "22.0"
            ]
          },
          "execution_count": 45,
          "metadata": {},
          "output_type": "execute_result"
        }
      ],
      "source": [
        "idade"
      ]
    },
    {
      "cell_type": "code",
      "execution_count": null,
      "id": "e52ee2ad-4df7-45f4-8a5f-4f784c2ee7fb",
      "metadata": {
        "id": "e52ee2ad-4df7-45f4-8a5f-4f784c2ee7fb",
        "outputId": "ac4fcb84-5794-48a9-b157-e8c572383353"
      },
      "outputs": [
        {
          "data": {
            "text/plain": [
              "float"
            ]
          },
          "execution_count": 47,
          "metadata": {},
          "output_type": "execute_result"
        }
      ],
      "source": [
        "type(idade)"
      ]
    },
    {
      "cell_type": "code",
      "execution_count": null,
      "id": "38250339-449b-4a72-bdef-3fbaaac44d1e",
      "metadata": {
        "id": "38250339-449b-4a72-bdef-3fbaaac44d1e",
        "outputId": "5d810789-4dd2-4f93-d4e3-824251950bff"
      },
      "outputs": [
        {
          "name": "stdin",
          "output_type": "stream",
          "text": [
            "Digite o lado maior:  5\n",
            "Digite o lado menor:  3\n"
          ]
        },
        {
          "name": "stdout",
          "output_type": "stream",
          "text": [
            "A área do quadrilatero é:  15.0\n"
          ]
        }
      ],
      "source": [
        "lado1 = float(input(\"Digite o lado maior: \"))\n",
        "lado2 = float(input(\"Digite o lado menor: \"))\n",
        "area = lado1 * lado2\n",
        "print(\"A área do quadrilatero é: \", area)"
      ]
    },
    {
      "cell_type": "code",
      "execution_count": null,
      "id": "eabd5bf0-4b10-4a32-8431-ba896241d550",
      "metadata": {
        "id": "eabd5bf0-4b10-4a32-8431-ba896241d550"
      },
      "outputs": [],
      "source": []
    }
  ],
  "metadata": {
    "kernelspec": {
      "display_name": "Python [conda env:base] *",
      "language": "python",
      "name": "conda-base-py"
    },
    "language_info": {
      "codemirror_mode": {
        "name": "ipython",
        "version": 3
      },
      "file_extension": ".py",
      "mimetype": "text/x-python",
      "name": "python",
      "nbconvert_exporter": "python",
      "pygments_lexer": "ipython3",
      "version": "3.12.7"
    },
    "colab": {
      "provenance": []
    }
  },
  "nbformat": 4,
  "nbformat_minor": 5
}