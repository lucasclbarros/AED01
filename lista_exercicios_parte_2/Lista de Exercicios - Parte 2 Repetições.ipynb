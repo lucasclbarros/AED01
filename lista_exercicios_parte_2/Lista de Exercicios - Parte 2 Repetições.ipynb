{
 "cells": [
  {
   "cell_type": "markdown",
   "id": "85695220-98ef-408d-8bcd-f0d4838edf91",
   "metadata": {},
   "source": [
    "### 1- Faça um programa que peça uma nota, entre zero e dez. Mostre uma mensagem caso o valor seja inválido e continue pedindo até que o usuário informe um valor válido. "
   ]
  },
  {
   "cell_type": "code",
   "execution_count": 3,
   "id": "4aae0ceb-259e-4d9d-af8e-75d9c98fa168",
   "metadata": {},
   "outputs": [
    {
     "name": "stdin",
     "output_type": "stream",
     "text": [
      "Digite sua nota de 0 a 10:  1\n"
     ]
    },
    {
     "name": "stdout",
     "output_type": "stream",
     "text": [
      "nota válida: 1.0\n"
     ]
    }
   ],
   "source": [
    "nota = -1\n",
    "while nota < 0 or nota > 10:\n",
    "    nota = float(input(\"Digite sua nota de 0 a 10: \"))\n",
    "    if nota < 0 or nota > 10:\n",
    "        print(\"Nota invalida. Tente novamente.\")\n",
    "\n",
    "print(f\"nota válida: {nota}\")\n",
    "                 "
   ]
  },
  {
   "cell_type": "markdown",
   "id": "e5e31d1e-da68-47f4-8758-f1ac2933b925",
   "metadata": {},
   "source": [
    "### 2 - Faça um programa que leia um nome de usuário e a sua senha e não aceite a senha igual ao nome do usuário, mostrando uma mensagem de erro e voltando a pedir as informações"
   ]
  },
  {
   "cell_type": "code",
   "execution_count": 1,
   "id": "8781f362-433b-4835-8c37-d436755813de",
   "metadata": {},
   "outputs": [
    {
     "name": "stdin",
     "output_type": "stream",
     "text": [
      "Digite o nome de usuário:  senha\n",
      "Digite a senha:  senha\n"
     ]
    },
    {
     "name": "stdout",
     "output_type": "stream",
     "text": [
      "Erro: A senha não pode ser igual ao nome de usuário. Tente novamente.\n"
     ]
    },
    {
     "name": "stdin",
     "output_type": "stream",
     "text": [
      "Digite o nome de usuário:  gabriel\n",
      "Digite a senha:  rufino\n"
     ]
    },
    {
     "name": "stdout",
     "output_type": "stream",
     "text": [
      "Usuário e senha cadastrados com sucesso!\n"
     ]
    }
   ],
   "source": [
    "while True:\n",
    "    usuario = input(\"Digite o nome de usuário: \")\n",
    "\n",
    "    senha = input(\"Digite a senha: \")\n",
    "\n",
    "    if senha == usuario:\n",
    "        print(\"Erro: A senha não pode ser igual ao nome de usuário. Tente novamente.\")\n",
    "    else:\n",
    "        print(\"Usuário e senha cadastrados com sucesso!\")\n",
    "        break\n"
   ]
  },
  {
   "cell_type": "markdown",
   "id": "f2f02129-28af-4066-8ff6-29c8c0a12d9f",
   "metadata": {},
   "source": [
    "### 3 -  Faça um programa que leia e valide as seguintes informações: \n",
    "##### a. Nome: maior que 3 caracteres; \n",
    "##### b. Idade: entre 0 e 150; \n",
    "##### c. Salário: maior que zero; \n",
    "##### d. Sexo: 'f' ou 'm'; \n",
    "##### e. Estado Civil: 's', 'c', 'v', 'd'; "
   ]
  },
  {
   "cell_type": "code",
   "execution_count": null,
   "id": "af91ab9a-ed57-43e4-808e-0372c8fb1629",
   "metadata": {},
   "outputs": [],
   "source": [
    "nome = ''\n",
    "while (len(nome) <= 3):\n",
    "    nome = input('Informe um nome: ')\n",
    "    if (len(nome) <= 3):\n",
    "        print('O nome deve ter mais de tres letras!')\n",
    "\n",
    "idade = -1\n",
    "while (idade < 0) or (idade > 150):\n",
    "    idade = int(input('Informe a idade: '))\n",
    "    if (idade < 0) or (idade > 150):\n",
    "        print('Idade deve estar entre 0 e 150')\n",
    "\n",
    "salario = 0\n",
    "while (salario <= 0):\n",
    "    salario = int(input('Informe o salario: '))\n",
    "    if (salario <= 0):\n",
    "        print('O salario deve ser maior que zero')\n",
    "\n",
    "sexo = ''\n",
    "while (sexo != 'F') and (sexo != 'M'):\n",
    "    sexo = input('Informe o sexo: ').upper()\n",
    "    if (sexo != 'F') and (sexo != 'M'):\n",
    "        print('O sexo deve ser infomado como M (masculino) ou F (feminino)')\n",
    "\n",
    "estado_civil = 'A'\n",
    "while ('SCVD'.find(estado_civil) < 0):\n",
    "    estado_civil = input('Informe o estado civil: ').upper()\n",
    "    if ('SCVD'.find(estado_civil) < 0):\n",
    "        print('Estado civil deve ser informado como S (solteiro), C (casado),'\\\n",
    "            ' V (viuvo) ou D (divorciado)')\n",
    "\n",
    "\n"
   ]
  },
  {
   "cell_type": "markdown",
   "id": "73ba9346-87a0-4573-b9ce-d8463118f360",
   "metadata": {},
   "source": [
    "### 4 - Supondo que a população de um país A seja da ordem de 80000 habitantes com uma taxa anual de crescimento de 3% e que a população de B seja 200000 habitantes com uma taxa de crescimento de 1.5%. Faça um programa que calcule e escreva o número de anos necessários para que a população do país A ultrapasse ou iguale a população do país B, mantidas as taxas de crescimento. "
   ]
  },
  {
   "cell_type": "code",
   "execution_count": null,
   "id": "c3a348cd-b4a6-447c-9ea4-2ada88c7ecf3",
   "metadata": {},
   "outputs": [],
   "source": [
    "\n",
    "populacaoA = 80000\n",
    "crescimentoA = 1.03\n",
    "populacaoB = 200000\n",
    "crescimentoB = 1.015\n",
    "\n",
    "ano = 1\n",
    "while (populacaoA <= populacaoB):\n",
    "    populacaoA *= crescimentoA\n",
    "    populacaoB *= crescimentoB\n",
    "    ano += 1\n",
    "print('Serao necessarios', ano, 'anos para que a populacao do pais A')\n",
    "print('ultrapasse a populacao do pais B')\n"
   ]
  },
  {
   "cell_type": "markdown",
   "id": "f40a15b7-09fd-4e4e-9a6e-0368a579275a",
   "metadata": {},
   "source": [
    "### 5 - Faça um programa que leia 5 números e informe a soma e a média dos números. "
   ]
  },
  {
   "cell_type": "code",
   "execution_count": null,
   "id": "a6389a17-8eed-4c07-b4fa-4bf0dc1f2136",
   "metadata": {},
   "outputs": [],
   "source": [
    "soma = 0\n",
    "for i in range (0, 5):\n",
    "    numero = int(input(\"Insira um número\"))\n",
    "    soma +- numero\n",
    "print(f'A soma dos números digitados é {soma}')\n",
    "print(f'A média dos números digitados é {soma / 5.0}')\n"
   ]
  },
  {
   "cell_type": "markdown",
   "id": "09058317-1d31-4658-a89b-f5a7212fed14",
   "metadata": {},
   "source": [
    "### 6 - Desenvolva um gerador de tabuada, capaz de gerar a tabuada de qualquer número inteiro entre 1 a 10. O usuário deve informar de qual numero ele deseja ver a tabuada. A saída deve ser conforme o exemplo abaixo: \n",
    "##### a. Tabuada de 5: \n",
    "\n",
    "##### b. 5 X 1 = 5 \n",
    "\n",
    "##### c. 5 X 2 = 10 \n",
    "\n",
    "##### d. ... \n",
    "\n",
    "##### e. 5 X 10 = 50"
   ]
  },
  {
   "cell_type": "code",
   "execution_count": null,
   "id": "a891998d-a46e-40ae-ac7e-fa090b3a1ed9",
   "metadata": {},
   "outputs": [],
   "source": [
    "numero = int(input('Informe o número que você quer ver a tabuada: '))\n",
    "\n",
    "print('Tabuada de', numero, ':')\n",
    "for i in range(1, 11):\n",
    "    print(f'{numero} X {i} = {numero * i}')"
   ]
  },
  {
   "cell_type": "markdown",
   "id": "fbbbbc2a-3c71-49fa-a6ab-cfd6dde827a2",
   "metadata": {},
   "source": [
    "### 7 -  A série de Fibonacci é formada pela seqüência 1,1,2,3,5,8,13,21,34,55,... Faça um programa capaz de gerar a série até o n−ésimo termo."
   ]
  },
  {
   "cell_type": "code",
   "execution_count": null,
   "id": "26c856ea-e7ba-49ab-b90f-0fffc82ea1a6",
   "metadata": {},
   "outputs": [],
   "source": [
    "termo = 0\n",
    "while (termo <= 0):\n",
    "    termo = int(input('Voce quer a série de Fibonacci até qual termo: '))\n",
    "    if (termo <= 0):\n",
    "        print('O termo deve ser positivo!')\n",
    "\n",
    "primeiro = 0\n",
    "print(primeiro)\n",
    "segundo = 1\n",
    "for i in range(1, termo):\n",
    "    print(segundo)\n",
    "    terceiro = primeiro + segundo\n",
    "    primeiro = segundo\n",
    "    segundo = terceiro"
   ]
  },
  {
   "cell_type": "markdown",
   "id": "3d7faa2e-4a2d-45f7-bed5-249615a7b6fb",
   "metadata": {},
   "source": [
    "### 8 - Faça um programa que calcule o mostre a média aritmética de N notas."
   ]
  },
  {
   "cell_type": "code",
   "execution_count": null,
   "id": "e0a7c593-395d-4136-a8be-3d45e6941969",
   "metadata": {},
   "outputs": [],
   "source": [
    "quantidade = 0\n",
    "while (quantidade <= 0):\n",
    "    quantidade = int(input('Você quer saber a média de quantas notas: '))\n",
    "    if (quantidade <= 0):\n",
    "        print('A quandidade deve ser positiva!')\n",
    "\n",
    "soma = 0.0\n",
    "for i in range(0, quantidade):\n",
    "    nota = -1\n",
    "    while (nota < 0) or (nota > 10):\n",
    "        nota = float(input(f'Informe a nota {i+1}: '))\n",
    "        if (nota < 0) or (nota > 10):\n",
    "            print('A nota deve estar entre 0 e 10')\n",
    "    soma += nota\n",
    "\n",
    "print(f'A media das notas é {soma / float(quantidade)}')"
   ]
  },
  {
   "cell_type": "markdown",
   "id": "7879dd68-8882-455d-863a-0962433fbaed",
   "metadata": {},
   "source": [
    "### 9 - O Sr. Manoel Joaquim possui uma grande loja de artigos de R$ 1,99, com cerca de 10 caixas. Para agilizar o cálculo de quanto cada cliente deve pagar ele desenvolveu um tabela que contém o número de itens que o cliente comprou e ao lado o valor da conta. Desta forma a atendente do caixa precisa apenas contar quantos itens o cliente está levando e olhar na tabela de preços. Você foi contratado para desenvolver o programa que monta esta tabela de preços, que conterá os preços de 1 até 50 produtos, conforme o exemplo abaixo: \n",
    "\n",
    "##### a. Lojas Quase Dois - Tabela de preços \n",
    "\n",
    "##### b. 1 - R$ 1.99 \n",
    "\n",
    "##### c. 2 - R$ 3.98 \n",
    "\n",
    "##### d. ... \n",
    "\n",
    "##### e. 50 - R$ 99.50 "
   ]
  },
  {
   "cell_type": "code",
   "execution_count": null,
   "id": "86b373c5-12f5-445f-9440-29cba4326f39",
   "metadata": {},
   "outputs": [],
   "source": [
    "print('Loja Quase Dois - Tabela de preços')\n",
    "for i in range(1, 51):\n",
    "    print(f'{i:2d} - R$ {(i * 1.99):5.2f}')"
   ]
  },
  {
   "cell_type": "markdown",
   "id": "22e01b0f-fa2c-4014-b105-84709d7b969b",
   "metadata": {},
   "source": [
    "### 10 - O Departamento Estadual de Meteorologia lhe contratou para desenvolver um programa que leia as um conjunto indeterminado de temperaturas, e informe ao final a menor e a maior temperaturas informadas, bem como a média das temperaturas."
   ]
  },
  {
   "cell_type": "code",
   "execution_count": null,
   "id": "d3d8d309-7aae-4a68-8bb3-29faa67717b8",
   "metadata": {},
   "outputs": [],
   "source": [
    "quantidade = 0\n",
    "while (quantidade <= 0):\n",
    "    quantidade = int(input('Informe a quantidade de temperaturas: '))\n",
    "    if (quantidade <= 0):\n",
    "        print('A quandidade deve ser positiva!')\n",
    "\n",
    "soma = 0.0\n",
    "for i in range(0, quantidade):\n",
    "    temperatura = float(input(f'Informe a temperatura {i+1}: '))\n",
    "    if ('maior' not in vars()) or (temperatura > maior):\n",
    "        maior = temperatura\n",
    "    if ('menor' not in vars()) or (temperatura < menor):\n",
    "        menor = temperatura\n",
    "    soma += temperatura\n",
    "\n",
    "media = soma / float(quantidade)\n",
    "\n",
    "print('Media da temperatura: ', media)\n",
    "print('Maior temperatura: ', maior)\n",
    "print('Menor temperatura: ', menor)\n"
   ]
  }
 ],
 "metadata": {
  "kernelspec": {
   "display_name": "Python 3 (ipykernel)",
   "language": "python",
   "name": "python3"
  },
  "language_info": {
   "codemirror_mode": {
    "name": "ipython",
    "version": 3
   },
   "file_extension": ".py",
   "mimetype": "text/x-python",
   "name": "python",
   "nbconvert_exporter": "python",
   "pygments_lexer": "ipython3",
   "version": "3.12.7"
  }
 },
 "nbformat": 4,
 "nbformat_minor": 5
}
