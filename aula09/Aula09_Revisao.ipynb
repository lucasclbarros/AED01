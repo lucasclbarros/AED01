{
 "cells": [
  {
   "cell_type": "markdown",
   "metadata": {},
   "source": [
    "![Algoritmos e Estrutura de Dados I](AED1_banner.jpg)"
   ]
  },
  {
   "cell_type": "markdown",
   "metadata": {},
   "source": [
    "## <font color='blue'>Algoritmos e Estrutura de Dados I</font>\n",
    "## <font color='blue'>Aula 9 -  Revisão</font>"
   ]
  },
  {
   "cell_type": "code",
   "execution_count": null,
   "metadata": {},
   "outputs": [],
   "source": [
    "# Versão da Linguagem Python\n",
    "from platform import python_version\n",
    "print('Versão da Linguagem Python Usada Neste Jupyter Notebook:', python_version())"
   ]
  },
  {
   "cell_type": "markdown",
   "metadata": {},
   "source": [
    "## Estrutura sequencial"
   ]
  },
  {
   "cell_type": "markdown",
   "metadata": {},
   "source": [
    "Escreva um programa em Python que solicite ao usuário o valor de dois números, calcule e exiba a soma deles."
   ]
  },
  {
   "cell_type": "code",
   "execution_count": 11,
   "metadata": {},
   "outputs": [
    {
     "name": "stdin",
     "output_type": "stream",
     "text": [
      "Número 1:  5\n",
      "Número 1:  7\n"
     ]
    },
    {
     "name": "stdout",
     "output_type": "stream",
     "text": [
      "12.0\n"
     ]
    }
   ],
   "source": [
    "num1 = float(input(\"Número 1: \"))\n",
    "num2 = float(input(\"Número 1: \"))\n",
    "resultado = num1 + num2\n",
    "print (resultado)"
   ]
  },
  {
   "attachments": {},
   "cell_type": "markdown",
   "metadata": {},
   "source": [
    "Escreva um programa em Python que solicite ao usuário a temperatura em graus Celsius e converta para Fahrenheit. A fórmula para conversão é F = C * 9/5 + 32.\n"
   ]
  },
  {
   "cell_type": "code",
   "execution_count": 9,
   "metadata": {},
   "outputs": [
    {
     "name": "stdin",
     "output_type": "stream",
     "text": [
      "Graus Celsius:  20\n"
     ]
    },
    {
     "name": "stdout",
     "output_type": "stream",
     "text": [
      "68.0 Fahrenheit\n"
     ]
    }
   ],
   "source": [
    "graus_celsius = float(input(\"Graus Celsius: \"))\n",
    "fahrenheit = (graus_celsius * 9/5) + 32\n",
    "print (fahrenheit, \"Fahrenheit\")"
   ]
  },
  {
   "cell_type": "markdown",
   "metadata": {},
   "source": [
    "## Estrutura Condicional"
   ]
  },
  {
   "cell_type": "markdown",
   "metadata": {},
   "source": [
    "Escreva um programa em Python que solicite ao usuário um número e verifique se ele é positivo, negativo ou zero. Exiba a mensagem correspondente.\n"
   ]
  },
  {
   "cell_type": "code",
   "execution_count": 21,
   "metadata": {},
   "outputs": [
    {
     "name": "stdin",
     "output_type": "stream",
     "text": [
      "Digite um número:  0\n"
     ]
    },
    {
     "name": "stdout",
     "output_type": "stream",
     "text": [
      "Zero\n"
     ]
    }
   ],
   "source": [
    "Número = int(input(\"Digite um número: \"))\n",
    "if Número == 0:\n",
    "    print (\"Zero\")\n",
    "if Número > 0:\n",
    "    print (\"Positivo\")\n",
    "if Número < 0:\n",
    "    print (\"Negativo\")"
   ]
  },
  {
   "cell_type": "markdown",
   "metadata": {},
   "source": [
    "Escreva um programa em Python que solicite ao usuário três números e determine qual é o maior entre eles.\n"
   ]
  },
  {
   "cell_type": "code",
   "execution_count": 29,
   "metadata": {},
   "outputs": [
    {
     "name": "stdin",
     "output_type": "stream",
     "text": [
      "Número 1:  57\n",
      "Número 2:  123\n",
      "Número 3:  345\n"
     ]
    },
    {
     "name": "stdout",
     "output_type": "stream",
     "text": [
      "O maior é o número 3:  345\n"
     ]
    }
   ],
   "source": [
    "num1 = int(input(\"Número 1: \"))\n",
    "num2 = int(input(\"Número 2: \"))\n",
    "num3 = int(input(\"Número 3: \"))\n",
    "if num1 > num2 and num1 > num3:\n",
    "    print (\"O maior é o número 1: \",num1)\n",
    "if num2 > num1 and num2 > num3:\n",
    "    print (\"O maior é o número 2: \",num2)\n",
    "if num3 > num2 and num3 > num1:\n",
    "    print (\"O maior é o número 3: \",num3)"
   ]
  },
  {
   "cell_type": "markdown",
   "metadata": {},
   "source": [
    "## Estrutura de Repetição"
   ]
  },
  {
   "cell_type": "markdown",
   "metadata": {},
   "source": [
    "Escreva um programa em Python que exiba todos os números de 1 a 10.\n"
   ]
  },
  {
   "cell_type": "code",
   "execution_count": 33,
   "metadata": {},
   "outputs": [
    {
     "name": "stdout",
     "output_type": "stream",
     "text": [
      "1\n",
      "2\n",
      "3\n",
      "4\n",
      "5\n",
      "6\n",
      "7\n",
      "8\n",
      "9\n",
      "10\n"
     ]
    }
   ],
   "source": [
    "for i in range (1,11):\n",
    "    print (i)"
   ]
  },
  {
   "cell_type": "markdown",
   "metadata": {},
   "source": [
    "Escreva um programa em Python que solicite ao usuário um número inteiro positivo e calcule o fatorial desse número.\n"
   ]
  },
  {
   "cell_type": "code",
   "execution_count": 39,
   "metadata": {},
   "outputs": [
    {
     "name": "stdin",
     "output_type": "stream",
     "text": [
      "Digite um número:  5\n"
     ]
    },
    {
     "name": "stdout",
     "output_type": "stream",
     "text": [
      "O fatorial de 5 é 120\n"
     ]
    }
   ],
   "source": [
    "import math\n",
    "\n",
    "num = int(input(\"Digite um número: \"))\n",
    "Fatorial = math.factorial(num)\n",
    "print (f\"O fatorial de {num} é {Fatorial}\")"
   ]
  },
  {
   "cell_type": "markdown",
   "metadata": {},
   "source": [
    "## Geral"
   ]
  },
  {
   "cell_type": "markdown",
   "metadata": {},
   "source": [
    "Você é um cientista de dados e precisa analisar as notas de um conjunto de estudantes em uma disciplina. Você deverá escrever um programa em Python que solicite ao usuário o número de estudantes e, em seguida, as notas desses estudantes. O programa deve calcular e exibir:\n",
    "\n",
    "- A média das notas.\n",
    "- A maior e a menor nota.\n",
    "- O número de estudantes aprovados (nota maior ou igual a 6) e reprovados (nota menor que 6).\n",
    "\n",
    "Regras:\n",
    "\n",
    "- Utilize variáveis simples para armazenar as informações.\n",
    "- Utilize estruturas de repetição para coletar as notas dos estudantes.\n",
    "- Utilize estruturas condicionais para determinar o status de aprovação dos estudantes."
   ]
  },
  {
   "cell_type": "code",
   "execution_count": 1,
   "metadata": {},
   "outputs": [
    {
     "name": "stdin",
     "output_type": "stream",
     "text": [
      "Digite o número de estudantes:  5\n",
      "Digite a nota do estudante 1:  9\n",
      "Digite a nota do estudante 2:  5\n",
      "Digite a nota do estudante 3:  7\n",
      "Digite a nota do estudante 4:  4\n",
      "Digite a nota do estudante 5:  8\n"
     ]
    },
    {
     "name": "stdout",
     "output_type": "stream",
     "text": [
      "\n",
      "--- Resultados da Análise ---\n",
      "Média das notas: 6.60\n",
      "Maior nota: 9.00\n",
      "Menor nota: 4.00\n",
      "Número de estudantes aprovados: 3\n",
      "Número de estudantes reprovados: 2\n"
     ]
    }
   ],
   "source": [
    "num_estudantes = int(input(\"Digite o número de estudantes: \"))\n",
    "\n",
    "soma_notas = 0\n",
    "maior_nota = float('-inf')  \n",
    "menor_nota = float('inf')   \n",
    "num_aprovados = 0\n",
    "num_reprovados = 0\n",
    "\n",
    "for i in range(num_estudantes):\n",
    "    while True:\n",
    "        try:\n",
    "            nota = float(input(f\"Digite a nota do estudante {i + 1}: \"))\n",
    "            if 0 <= nota <= 10:\n",
    "                break \n",
    "            else:\n",
    "                print(\"Nota inválida. Digite uma nota entre 0 e 10.\")\n",
    "        except ValueError:\n",
    "            print(\"Entrada inválida. Digite um número.\")\n",
    "\n",
    "    soma_notas += nota\n",
    "\n",
    "    if nota > maior_nota:\n",
    "        maior_nota = nota\n",
    "    if nota < menor_nota:\n",
    "        menor_nota = nota\n",
    "\n",
    "    if nota >= 6:\n",
    "        num_aprovados += 1\n",
    "    else:\n",
    "        num_reprovados += 1\n",
    "\n",
    "if num_estudantes > 0:\n",
    "    media_notas = soma_notas / num_estudantes\n",
    "else:\n",
    "    media_notas = 0\n",
    "\n",
    "print(\"\\n--- Resultados da Análise ---\")\n",
    "print(f\"Média das notas: {media_notas:.2f}\")\n",
    "print(f\"Maior nota: {maior_nota:.2f}\")\n",
    "print(f\"Menor nota: {menor_nota:.2f}\")\n",
    "print(f\"Número de estudantes aprovados: {num_aprovados}\")\n",
    "print(f\"Número de estudantes reprovados: {num_reprovados}\")"
   ]
  },
  {
   "cell_type": "markdown",
   "metadata": {},
   "source": [
    "Faça um programa que receba um número inteiro positivo e transforme esse número para binário."
   ]
  },
  {
   "cell_type": "code",
   "execution_count": 8,
   "metadata": {},
   "outputs": [
    {
     "name": "stdin",
     "output_type": "stream",
     "text": [
      "Digite um número inteiro positivo 11\n"
     ]
    },
    {
     "name": "stdout",
     "output_type": "stream",
     "text": [
      "O binário de 11 é 0b1011\n"
     ]
    }
   ],
   "source": [
    "num_inteiro = int(input(\"Digite um número inteiro positivo\"))\n",
    "binario_string = bin (num_inteiro)\n",
    "print (f\"O binário de {num_inteiro} é {binario_string}\")"
   ]
  },
  {
   "cell_type": "markdown",
   "metadata": {},
   "source": [
    "## Fim da Aula 9"
   ]
  }
 ],
 "metadata": {
  "kernelspec": {
   "display_name": "Python 3 (ipykernel)",
   "language": "python",
   "name": "python3"
  },
  "language_info": {
   "codemirror_mode": {
    "name": "ipython",
    "version": 3
   },
   "file_extension": ".py",
   "mimetype": "text/x-python",
   "name": "python",
   "nbconvert_exporter": "python",
   "pygments_lexer": "ipython3",
   "version": "3.12.7"
  }
 },
 "nbformat": 4,
 "nbformat_minor": 4
}
